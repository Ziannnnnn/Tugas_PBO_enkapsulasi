{
  "cells": [
    {
      "cell_type": "markdown",
      "metadata": {
        "id": "view-in-github",
        "colab_type": "text"
      },
      "source": [
        "<a href=\"https://colab.research.google.com/github/Ziannnnnn/Tugas_PBO_enkapsulasi/blob/main/enkapsulasi2.ipynb\" target=\"_parent\"><img src=\"https://colab.research.google.com/assets/colab-badge.svg\" alt=\"Open In Colab\"/></a>"
      ]
    },
    {
      "cell_type": "code",
      "source": [
        "\n",
        "class Produk:\n",
        "    def __init__(self, nama, harga):\n",
        "        self.nama = nama\n",
        "        self.harga = harga\n",
        "        self.__harga_diskon = self.harga - (0.15 * self.harga)\n",
        "\n",
        "    def showHargaDiskon(self):\n",
        "        return self.__harga_diskon\n",
        "\n",
        "produk1 = Produk(\"Kopi\", 20000)\n",
        "print(produk1.showHargaDiskon())\n"
      ],
      "metadata": {
        "colab": {
          "base_uri": "https://localhost:8080/"
        },
        "id": "deISvUQKOvvW",
        "outputId": "96a2fec3-c073-4a5f-be8b-063823609a1d"
      },
      "execution_count": 3,
      "outputs": [
        {
          "output_type": "stream",
          "name": "stdout",
          "text": [
            "17000.0\n"
          ]
        }
      ]
    }
  ],
  "metadata": {
    "colab": {
      "name": "Welcome To Colab",
      "toc_visible": true,
      "provenance": [],
      "include_colab_link": true
    },
    "kernelspec": {
      "display_name": "Python 3",
      "name": "python3"
    }
  },
  "nbformat": 4,
  "nbformat_minor": 0
}