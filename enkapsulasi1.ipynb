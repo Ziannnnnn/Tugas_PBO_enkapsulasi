{
  "cells": [
    {
      "cell_type": "markdown",
      "metadata": {
        "id": "view-in-github",
        "colab_type": "text"
      },
      "source": [
        "<a href=\"https://colab.research.google.com/github/Ziannnnnn/Tugas_PBO_enkapsulasi1/blob/main/enkapsulasi1.ipynb\" target=\"_parent\"><img src=\"https://colab.research.google.com/assets/colab-badge.svg\" alt=\"Open In Colab\"/></a>"
      ]
    },
    {
      "cell_type": "code",
      "source": [
        "\n",
        "class Mahasiswa:\n",
        "    def __init__(self, nama, nilai):\n",
        "        self.nama = nama\n",
        "        self.nilai = nilai\n",
        "        self.__nilai_akhir = self.nilai - (0.1 * self.nilai)\n",
        "\n",
        "    def getNilaiAkhir(self):\n",
        "        return self.__nilai_akhir\n",
        "\n",
        "mhs1 = Mahasiswa(\"Budi\", 80)\n",
        "print(mhs1.getNilaiAkhir())\n"
      ],
      "metadata": {
        "id": "deISvUQKOvvW",
        "outputId": "435ad00f-b122-4bb7-c1a5-42a974d66725",
        "colab": {
          "base_uri": "https://localhost:8080/"
        }
      },
      "execution_count": 2,
      "outputs": [
        {
          "output_type": "stream",
          "name": "stdout",
          "text": [
            "72.0\n"
          ]
        }
      ]
    }
  ],
  "metadata": {
    "colab": {
      "name": "Welcome To Colab",
      "toc_visible": true,
      "provenance": [],
      "include_colab_link": true
    },
    "kernelspec": {
      "display_name": "Python 3",
      "name": "python3"
    }
  },
  "nbformat": 4,
  "nbformat_minor": 0
}